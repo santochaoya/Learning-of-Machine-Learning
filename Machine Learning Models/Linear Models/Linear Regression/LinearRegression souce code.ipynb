{
 "cells": [
  {
   "cell_type": "markdown",
   "metadata": {},
   "source": [
    "# LinearRegression()\n",
    "\n",
    "This is a class of Linear Regression model with Ordinary Least Squares."
   ]
  }
 ],
 "metadata": {
  "interpreter": {
   "hash": "f3e62f5d6d63c51a10cde3123055077c7667bd6cb5a4c34c26abf9117b699195"
  },
  "kernelspec": {
   "display_name": "Python 3.9.13 ('tensorflow')",
   "language": "python",
   "name": "python3"
  },
  "language_info": {
   "name": "python",
   "version": "3.9.13"
  },
  "orig_nbformat": 4
 },
 "nbformat": 4,
 "nbformat_minor": 2
}
